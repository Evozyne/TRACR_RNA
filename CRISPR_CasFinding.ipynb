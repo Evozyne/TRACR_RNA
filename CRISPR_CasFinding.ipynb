{
 "cells": [
  {
   "cell_type": "markdown",
   "metadata": {},
   "source": [
    "<div class=\"alert alert-block alert-success\">\n",
    "    \n",
    "## Python libraries used by this module\n",
    "    \n",
    "</div>"
   ]
  },
  {
   "cell_type": "code",
   "execution_count": null,
   "metadata": {},
   "outputs": [],
   "source": [
    "%matplotlib inline\n",
    "from sys import path as spath\n",
    "spath.append(\"scripts/\") #Location of the modules created for this pipeline\n",
    "\n",
    "#Modules created for this pipeline\n",
    "from CRISPRtools import *\n",
    "from easyFunctions import *\n",
    "from HMMParser import *\n",
    "\n",
    "#Native and conda installed modules\n",
    "import re\n",
    "from Bio.SeqIO import parse, write\n",
    "from collections import Counter\n",
    "from datetime import date\n",
    "from glob import glob\n",
    "from IPython.display import display, HTML\n",
    "from matplotlib import pyplot as plt\n",
    "from os import chdir, listdir, path, stat, system, walk\n",
    "from pandas import Series\n",
    "from pickle import load"
   ]
  },
  {
   "cell_type": "markdown",
   "metadata": {},
   "source": [
    "<div class=\"alert alert-block alert-danger\">\n",
    "    \n",
    "## Designate where the fasta files are located and the valid file extensions\n",
    "#### The fasta directory will be recursively searched for all files with the given extensions\n",
    "    \n",
    "</div>"
   ]
  },
  {
   "cell_type": "code",
   "execution_count": null,
   "metadata": {},
   "outputs": [],
   "source": [
    "baseDbsDir = \"<Your_directory_with_assemblies_here>\"\n",
    "validExts = set([\".fasta\",\".fna\",\".fa\"])"
   ]
  },
  {
   "cell_type": "markdown",
   "metadata": {},
   "source": [
    "<div class=\"alert alert-block alert-success\">\n",
    "\n",
    "## Load the genomic assemblies\n",
    "    \n",
    "</div>"
   ]
  },
  {
   "cell_type": "code",
   "execution_count": null,
   "metadata": {},
   "outputs": [],
   "source": [
    "def baseAssembly(fname): return fname[:fname.rfind(\".\")], fname[fname.rfind(\".\"):]\n",
    "def deepWalk(baseDir,validAsmExts,visited=set()):\n",
    "    visited.add(baseDir)\n",
    "    for (dirpath, dirnames, filenames) in walk(baseDir):\n",
    "        for assembly in filenames:\n",
    "            fPath = path.join(dirpath, assembly)\n",
    "            asmID, ext = baseAssembly(assembly)\n",
    "            if ext not in validAsmExts or fPath in visited:continue\n",
    "            visited.add(fPath)\n",
    "            yield fPath\n",
    "        for dirName in dirnames:\n",
    "            dPath = path.join(baseDir,dirName)\n",
    "            if dPath not in visited: \n",
    "                for f in deepWalk(dPath, validAsmExts, visited): yield f         \n",
    "allAssemblies = {}\n",
    "for asmPath in deepWalk(baseDbsDir,validExts):\n",
    "    asmID = asmPath[asmPath.rfind(\"/\")+1:]\n",
    "    allAssemblies[asmID] = asmPath\n",
    "\n",
    "theDate = date.today()\n",
    "print(\"Ready to dump\")\n",
    "dump(allAssemblies,\"data/pickles/allAssemblies.p\")     \n",
    "print(\"Number of assemblies on %s: %i\" % (theDate, len(allAssemblies)))"
   ]
  },
  {
   "cell_type": "markdown",
   "metadata": {},
   "source": [
    "<div class=\"alert alert-block alert-success\">\n",
    "\n",
    "## Build the scripts to search for CRISPR arrays using both MinCED and PilerCR\n",
    "\n",
    "</div>"
   ]
  },
  {
   "cell_type": "code",
   "execution_count": null,
   "metadata": {},
   "outputs": [],
   "source": [
    "%%bash\n",
    "python scripts/FindCRISPRs.py --fasta_dir data/pickles/allAssemblies.p --scriptsDir scripts/findCRISPRs"
   ]
  },
  {
   "cell_type": "markdown",
   "metadata": {},
   "source": [
    "<div class=\"alert alert-block alert-success\">\n",
    "    \n",
    "## Process the CRISPR results\n",
    "1. Check to see if the assembly related to file has a crispr array\n",
    "1. Add any assembly with a crispr array to a master list\n",
    "\n",
    "</div>"
   ]
  },
  {
   "cell_type": "code",
   "execution_count": null,
   "metadata": {},
   "outputs": [],
   "source": [
    "crisprDir = \"/mnt/research/germs/shane/databases/crisprs/\"\n",
    "tools = [\"pilerCR/\", \"minCED/\"]\n",
    "dbs = ['pat2','genbank','refseq']\n",
    "crisprs = CasOperons()\n",
    "for tool in tools:\n",
    "    for db in dbs:\n",
    "        filePath = crisprDir+tool+db+\"/\"\n",
    "        crisprs.hasCrispr(listdir(filePath), tool == \"pilerCR/\", filePath, allAssemblies)\n",
    "crisprs.saveProgress()\n",
    "dump(crisprs, open(\"pickles/CRISPRs.p\",\"wb\")) "
   ]
  },
  {
   "cell_type": "markdown",
   "metadata": {},
   "source": [
    "<div class=\"alert alert-block alert-success\">\n",
    "    \n",
    "# From the assemblies with a CRISPR, find assemblies that have a Cas9-like coding sequence\n",
    "## Step 1: Profile the Protein \n",
    "1. Mean, max, min length of already known orthologs\n",
    "    \n",
    "## Step 2: HMM Seach \n",
    "1. Align orthologs\n",
    "1. build hmm profile\n",
    "1. hmm search against a database  \n",
    "    \n",
    "## Step 3: Profile Results  \n",
    "1. Read hmm results\n",
    "1. cluster results by percent identity\n",
    "1. remove proteins without required domains\n",
    "    \n",
    "</div>\n",
    "\n",
    "<div class=\"alert alert-block alert-danger\">\n",
    "    Protein profile input\n",
    "</div>"
   ]
  },
  {
   "cell_type": "code",
   "execution_count": null,
   "metadata": {},
   "outputs": [],
   "source": [
    "protein = \"Cas9\"\n",
    "#File containing the seed proteins for the hmmsearch\n",
    "proteinProfile = \"proteins/DiverseCas9s.faa\" "
   ]
  },
  {
   "cell_type": "code",
   "execution_count": null,
   "metadata": {},
   "outputs": [],
   "source": [
    "#Output files and directories\n",
    "proteinFile = \"proteins/%s.faa\" % protein\n",
    "alnName  = \"alignments/%s.aln\" % protein\n",
    "hmmName  = \"hmm/%s.hmm\" % protein\n",
    "hmmResultsDir = \"hmm/results\"\n",
    "refDatabases = [\"NCBI/refseq/bacteria\",\"NCBI/refseq/archaea\",\"NCBI/genbank/bacteria\",\"NCBI/genbank/archaea\",\"PATRIC2/fastas\",\"Corteva\"]"
   ]
  },
  {
   "cell_type": "markdown",
   "metadata": {},
   "source": [
    "<div class=\"alert alert-block alert-success\">\n",
    "\n",
    "## Profile the protein sequence\n",
    "    \n",
    "</div>"
   ]
  },
  {
   "cell_type": "code",
   "execution_count": null,
   "metadata": {},
   "outputs": [],
   "source": [
    "dists = []\n",
    "for rec in parse(proteinProfile,\"fasta\"): dists.append(len(rec.seq))\n",
    "dists = Series(dists)\n",
    "minSeqLen = int(dists.min() - (dists.mean() * .25))\n",
    "maxSeqLen = int(dists.max() + (dists.mean() * .25))\n",
    "print (dists.describe());\n",
    "print (\"Finding proteins that match the protein profile and are between %i and %i\" % (minSeqLen, maxSeqLen))\n",
    "import matplotlib.pyplot as plt\n",
    "dists.plot(kind='hist',grid=True,title=\"Diverse Cas9 Length Distribution\",figsize=(6,4))\n",
    "plt.savefig(\"images/DiverseCas9Lengths.png\")\n",
    "plt.show()"
   ]
  },
  {
   "cell_type": "markdown",
   "metadata": {},
   "source": [
    "<div class=\"alert alert-block alert-success\">\n",
    "\n",
    "## Align and build a profile HMM from the coding sequence\n",
    "    \n",
    "</div>"
   ]
  },
  {
   "cell_type": "code",
   "execution_count": null,
   "metadata": {},
   "outputs": [],
   "source": [
    "%%bash -s $geneProfile $alnName $hmmName\n",
    "mafft --thread 15 --maxiterate 1000 --retree 100 --localpair --reorder --treeout $1 > $2\n",
    "hmmbuild $3 $2 2>&1 >/dev/null"
   ]
  },
  {
   "cell_type": "markdown",
   "metadata": {},
   "source": [
    "<div class=\"alert alert-block alert-success\">\n",
    "\n",
    "## Build the scripts to search for sequences that match the HMM\n",
    "    \n",
    "</div>"
   ]
  },
  {
   "cell_type": "code",
   "execution_count": null,
   "metadata": {},
   "outputs": [],
   "source": [
    "system(\"rm ../scripts/hpc/hmmSearch/*\")\n",
    "print(\"There are %i CRISPR related assemblies\" % (len(assembliesWCrisprs)))\n",
    "fh = open(\"../scripts/hpc/hmmSearch/HMMSearch_0.sb\",\"w\")\n",
    "header = \"\"\n",
    "for line in open(\"../scripts/hpc/header.sb\"): header+=line\n",
    "fh.write(header)\n",
    "cmdCount, fileCounter = 0,1\n",
    "getOrfsCMD = \"python /mnt/research/germs/shane/transActRNA/scripts/GetOrfs.py %s sequences/orfs/%s.orfs 673 >/dev/null\"\n",
    "hmmSearchCMD = \"hmmsearch hmm/%s.hmm sequences/orfs/%s.orfs >%s/%s.hmmout\"\n",
    "\n",
    "for asmName, operon in assembliesWCrisprs.items():\n",
    "    asmFilePath = operon.assembly\n",
    "    if \"%s/%s.hmmout\" % (hmmResultsDir,asmName) in hmmFiles: continue\n",
    "    cmdCount += 1\n",
    "    fh.write(\"if [ ! -f %s/%s.hmmout ]; then\\n\" % (hmmResultsDir,asmName)) #Check to see if the hmm profile already exists\n",
    "    fh.write(\"\\t\"+getOrfsCMD % (asmFilePath,asmName) + \"\\n\")\n",
    "    fh.write(\"\\t\"+hmmSearchCMD % (gene,asmName,hmmResultsDir,asmName)+\"\\n\")\n",
    "    fh.write(\"\\thmmsize=$(wc -l <\\\"%s/%s.hmmout\\\") \\n\" % (hmmResultsDir,asmName))\n",
    "    fh.write(\"\\tif [ $hmmsize -le 40 ]; then \\n\")\n",
    "    fh.write(\"\\t\\trm sequences/orfs/%s.orfs \\n\" % (asmName))\n",
    "    fh.write(\"\\tfi\\n\")\n",
    "    fh.write(\"fi\\n\\n\")\n",
    "    if cmdCount % 50 == 0:\n",
    "        fh.close()\n",
    "        fh = open(\"../scripts/hpc/hmmSearch/HMMSearch_%i.sb\" % (fileCounter),\"w\")\n",
    "        fh.write(header)\n",
    "        fileCounter += 1\n",
    "fh.close()\n",
    "print(\"There are %i files for %i assemblies\" % (fileCounter,cmdCount))"
   ]
  },
  {
   "cell_type": "markdown",
   "metadata": {},
   "source": [
    "<div class=\"alert alert-block alert-success\">\n",
    "\n",
    "## Launch HMM scripts built in the previous step\n",
    "\n",
    "</div>"
   ]
  },
  {
   "cell_type": "code",
   "execution_count": null,
   "metadata": {},
   "outputs": [],
   "source": [
    "%%bash \n",
    "bash ../scripts/hpc/LaunchHMMSearch.sh"
   ]
  },
  {
   "cell_type": "markdown",
   "metadata": {},
   "source": [
    "<div class=\"alert alert-block alert-success\">\n",
    "\n",
    "## Read the HMM results and create protein and nucleotide sequence files\n",
    "\n",
    "</div>"
   ]
  },
  {
   "cell_type": "code",
   "execution_count": null,
   "metadata": {},
   "outputs": [],
   "source": [
    "crisprFiles = load(open(\"pickles/CRISPRs.p\",\"rb\")) \n",
    "casOperons = CasOperons(protein)\n",
    "casOperons.hasCas9(hmmResultsDir+\"/\",crisprFiles)\n",
    "dump(casOperons, \"pickles/%s_Operons.p\" % protein)\n",
    "\n",
    "# Sort through all the results and make a file with all of the Cas proteins of interest. \n",
    "# If there are duplicates only keep the duplicates that come from a unique chromosome\n",
    "#casOperons = load(open(\"pickles/%s_Operons.p\" % protein,\"rb\"))\n",
    "allCasAsmFile = \"assemblies/All_%s_Representative_Assemblies.fasta\" % (protein)\n",
    "allCasAAsFile = \"proteins/All_%s-Like.faa\" % (protein)\n",
    "casOperons.uniqueNukeSeqs(allCasAsmFile,allCasAAsFile,protein)"
   ]
  },
  {
   "cell_type": "markdown",
   "metadata": {},
   "source": [
    "<div class=\"alert alert-block alert-success\">\n",
    "\n",
    "## Domain search on the proteins matching the HMM.\n",
    "\n",
    "</div>"
   ]
  },
  {
   "cell_type": "code",
   "execution_count": null,
   "metadata": {},
   "outputs": [],
   "source": [
    "%%bash\n",
    "sbatch ../scripts/hpc/DomainSearch.sb"
   ]
  },
  {
   "cell_type": "markdown",
   "metadata": {},
   "source": [
    "<div class=\"alert alert-block alert-success\">\n",
    "\n",
    "## Read the results from the domain search.\n",
    "\n",
    "</div>"
   ]
  },
  {
   "cell_type": "code",
   "execution_count": null,
   "metadata": {},
   "outputs": [],
   "source": [
    "spacePat = re.compile( r'^[\\t ]*$')\n",
    "hits=SamplesDict()\n",
    "print(\"Reading Table Definitions\")\n",
    "for line in open(\"hmm/Cas9-Like_phi.faa.domtbl\"):\n",
    "    if line.startswith( '#' ):continue\n",
    "    fields = re.split( r'(\\[[^\\[]*[^\\S]+[^\\]]*\\]|[^\\t ]+)', line.strip() )\n",
    "    fields = DomainHit(list(filter(lambda i: not spacePat.search(i), fields)))\n",
    "    hits[fields.hit]=fields\n",
    "print(len(hits.samples))\n",
    "dump(hits,\"pickles/%s_HMM_DOMAIN_Search_Results.p\" % (protein))\n",
    "hasAllDomains = hits[\"RuvC_1_Cas9\"].intersection(hits[\"RuvC_2_Cas9\"].intersection(hits[\"RuvC_3_Cas9\"].intersection(hits[\"HNH_Cas\"])))\n",
    "allSamples = set(hits.samples.keys())\n",
    "nSamples = len(allSamples)\n",
    "noRuvC1 = allSamples.difference(hits[\"RuvC_1_Cas9\"])\n",
    "noRuvC2 = allSamples.difference(hits[\"RuvC_2_Cas9\"])\n",
    "noRuvC3 = allSamples.difference(hits[\"RuvC_3_Cas9\"])\n",
    "noHNH   = allSamples.difference(hits[\"HNH_Cas\"])\n",
    "htmlString =\"\"\"<table align='left'>\n",
    "    \"\"\"\\\n",
    "    \"<tr style='background-color:#9B7E46;color:white'><td>Number of Proteins:</td><td>%i</td></tr>\" % (nSamples) +\\\n",
    "    \"<tr style='background-color:#373D20;color:white'><td>Has all domains</td><td>%i</td></tr>\" % (len(hasAllDomains)) +\\\n",
    "    \"<tr style='background-color:#BCBD8B;color:white'><td>Number of sequences with no detected RuvCI domain</td><td>%i</td></tr>\" % (len(noRuvC1)) +\\\n",
    "    \"<tr style='background-color:#717744;color:white'><td>Number of sequences with no detected RuvCII domain</td><td>%i</td></tr>\" % (len(noRuvC2)) +\\\n",
    "    \"<tr style='background-color:#766153;color:white'><td>Number of sequences with no detected RuvCIII domain</td><td>%i</td></tr>\" % (len(noRuvC3)) +\\\n",
    "    \"<tr style='background-color:#F4B266;color:white'><td>Number of sequences with no detected HnH</td><td>%i</td></tr>\" % (len(noHNH)) +\\\n",
    "    \"\"\"\n",
    "    </table>\n",
    "\"\"\"\n",
    "display(HTML(htmlString))"
   ]
  },
  {
   "cell_type": "markdown",
   "metadata": {},
   "source": [
    "<div class=\"alert alert-block alert-success\">\n",
    "\n",
    "## Remove sequences with a domain that is not in the right location\n",
    "\n",
    "</div>"
   ]
  },
  {
   "cell_type": "code",
   "execution_count": null,
   "metadata": {},
   "outputs": [],
   "source": [
    "ruvC1Coords = []\n",
    "ruvC3Coords = []\n",
    "samples = []\n",
    "difs = []\n",
    "for sample in hasAllDomains:\n",
    "    ruc1Start = hits.samples[sample][\"RuvC_1_Cas9\"].start\n",
    "    ruc3End = hits.samples[sample][\"RuvC_3_Cas9\"].dend\n",
    "    ruvC1Coords.append(ruc1Start)\n",
    "    ruvC3Coords.append(ruc3End)\n",
    "    difs.append(ruc3End-ruc1Start)\n",
    "    samples.append(sample)\n",
    "    \n",
    "ruvC1Dists = Series(ruvC1Coords,index=samples)\n",
    "ruvC3Dists = Series(ruvC3Coords,index=samples)\n",
    "distBetween = Series(difs,index=samples)\n",
    "print (\"\\nMean distance from RuvC_1 to start of protein: %.0f std: %.0f\" % (ruvC1Dists.mean(), ruvC1Dists.std()))\n",
    "# the histogram of the data\n",
    "n, bins, patches = plt.hist(ruvC1Dists,facecolor='green')\n",
    "plt.xlabel('Distance to start of protein')\n",
    "plt.ylabel('Number of sequences')\n",
    "plt.title(\"Histogram of distances from RuvC_1 Domain to start of protein\")\n",
    "plt.grid(True)\n",
    "plt.show()"
   ]
  },
  {
   "cell_type": "code",
   "execution_count": null,
   "metadata": {},
   "outputs": [],
   "source": [
    "print (\"\\nMean distance from RuvC_3 to end of protein: %.0f std: %.0f\" % (ruvC3Dists.mean(), ruvC3Dists.std()))\n",
    "# The histogram of the data\n",
    "n, bins, patches = plt.hist(ruvC3Dists,facecolor='blue')\n",
    "plt.xlabel('Distance To End')\n",
    "plt.ylabel('Number of sequences')\n",
    "plt.title(\"Distance From RuvC_3 Domain to End of Sequence\")\n",
    "plt.grid(True)\n",
    "plt.savefig(\"images/%s_RuvC3_DomainLengths.png\" % gene)\n",
    "plt.show()"
   ]
  },
  {
   "cell_type": "code",
   "execution_count": null,
   "metadata": {},
   "outputs": [],
   "source": [
    "start_outliers = set(ruvC1Dists[ruvC1Dists > ruvC1Dists.mean()+8*ruvC1Dists.std()].index) #RuvC1 outlier\n",
    "end_outliers = set(ruvC3Dists[ruvC3Dists > ruvC3Dists.mean()+5*ruvC3Dists.std()].index) #RuvC3 outlier\n",
    "hasGoodDomains = hasAllDomains.difference(start_outliers.union(end_outliers))\n",
    "htmlString =\"\"\"<table align='left'>\n",
    "    \"\"\"\\\n",
    "    \"<tr style='background-color:#373D20;color:white'><td>No outlier domains</td><td>%i</td></tr>\" % (len(hasGoodDomains)) +\\\n",
    "    \"<tr style='background-color:#BCBD8B;color:white'><td>Number of RuvC1 outliers</td><td>%i</td></tr>\" % (len(start_outliers)) +\\\n",
    "    \"<tr style='background-color:#717744;color:white'><td>Number of RuvC3 outliers</td><td>%i</td></tr>\" % (len(end_outliers)) +\\\n",
    "    \"<tr style='background-color:#766153;color:white'><td>Outlier Intersection</td><td>%i</td></tr>\" % (len(start_outliers.intersection(end_outliers))) +\\\n",
    "    \"\"\"\n",
    "    </table>\n",
    "\"\"\"\n",
    "dump(hasGoodDomains,\"pickles/%s_CorrectDomains.p\" % protein)\n",
    "display(HTML(htmlString)) "
   ]
  },
  {
   "cell_type": "markdown",
   "metadata": {},
   "source": [
    "<div class=\"alert alert-block alert-success\">\n",
    "\n",
    "## Remove chrs that have more than 1 Cas9\n",
    "\n",
    "</div>"
   ]
  },
  {
   "cell_type": "code",
   "execution_count": null,
   "metadata": {},
   "outputs": [],
   "source": [
    "remove, baseMap, corrected = set(), {}, {}\n",
    "print(len(hasGoodDomains))\n",
    "for orfName in hasGoodDomains:\n",
    "    baseCHR = orfName[:orfName.rfind(\"_\")]\n",
    "    if baseCHR in corrected:\n",
    "        try: \n",
    "            baseMap[baseCHR].add(orfName)\n",
    "            baseMap[baseCHR].add(corrected[baseCHR])\n",
    "        except: baseMap[baseCHR] =set([corrected[baseCHR],orfName])\n",
    "        remove.add(orfName)\n",
    "        remove.add(corrected[baseCHR])\n",
    "    corrected[baseCHR] = orfName\n",
    "hasGoodDomains = hasGoodDomains.difference(remove)\n",
    "dump(hasGoodDomains,\"pickles/%s_CorrectDomains.p\" % protein)\n",
    "print(len(hasGoodDomains))\n",
    "casOperons.getRepSeqs(hasGoodDomains,\"proteins/All_%s-Like-filtered.faa\" %(protein),\"proteins/All_%s-Like.faa\" % (protein))\n",
    "dump(casOperons, \"pickles/%s_Operons.p\" % protein)"
   ]
  },
  {
   "cell_type": "markdown",
   "metadata": {},
   "source": [
    "<div class=\"alert alert-block alert-success\">\n",
    "\n",
    "## Cluster the sequences by sequence identity to choose representative sequences\n",
    "\n",
    "</div>"
   ]
  },
  {
   "cell_type": "code",
   "execution_count": null,
   "metadata": {},
   "outputs": [],
   "source": [
    "%%bash -s $protein\n",
    "cd-hit -i proteins/All_$1-Like-filtered.faa -M 0 -d 0 -c .90 -sc 1 -o proteins/$1-Like-clustered.faa >logs/$1_ClusterLog.log\n",
    "tail -n 8 logs/$1_ClusterLog.log > logs/clusterInfo\n",
    "head -n 1 logs/clusterInfo; rm logs/clusterInfo\n",
    "mv proteins/$1-Like-clustered.faa.clstr clusters/"
   ]
  },
  {
   "cell_type": "markdown",
   "metadata": {},
   "source": [
    "<div class=\"alert alert-block alert-success\">\n",
    "\n",
    "## Align the sequences and create a phylogenetic tree\n",
    "\n",
    "</div>"
   ]
  },
  {
   "cell_type": "code",
   "execution_count": null,
   "metadata": {},
   "outputs": [],
   "source": [
    "%%bash\n",
    "sbatch ../scripts/hpc/Alignment.sb"
   ]
  },
  {
   "cell_type": "markdown",
   "metadata": {},
   "source": [
    "<div class=\"alert alert-block alert-success\">\n",
    "\n",
    "## Read all the assemblies with a Cas9 and a CRISPR array and create a file with only the pseudochromosome containing both\n",
    "\n",
    "</div>"
   ]
  },
  {
   "cell_type": "code",
   "execution_count": null,
   "metadata": {},
   "outputs": [],
   "source": [
    "repFile = \"assemblies/%s_Representative_Assemblies.fasta\" % (protien) \n",
    "allRepAssemblies = \"assemblies/All_%s_Representative_Assemblies.fasta\" % (protien) #The new file we are creating\n",
    "repSeqs = open(repFile,\"w\")\n",
    "casRelatedProteins = fasta_index(\"proteins/%s-Like-clustered.faa\" % protien, \"fasta\")\n",
    "for protID,rec in casRelatedProteins.items():\n",
    "    baseID = protID[:protID.rfind(\"_\")]\n",
    "    nuceRec = allNukSeqs[baseID]\n",
    "    nuceRec.id = protID\n",
    "    if not path.exists(\"assemblies/pseudoChromos/%s.fasta\" % (protID)):\n",
    "        with open(\"assemblies/pseudoChromos/%s.fasta\" % (protID),'w') as fh: write(nuceRec,fh,\"fasta\")\n",
    "    write(nuceRec,repSeqs,\"fasta\")\n",
    "    locus = casOperons[protID]\n",
    "    setattr(locus,'seq',nuceRec) #TODO comment this out on re-run\n",
    "    locus.seq = nuceRec\n",
    "repSeqs.close()\n",
    "dump(casOperons,\"pickles/%s_Operons.p\" % gene)  "
   ]
  }
 ],
 "metadata": {
  "kernelspec": {
   "display_name": "Python 3 (ipykernel)",
   "language": "python",
   "name": "python3"
  },
  "language_info": {
   "codemirror_mode": {
    "name": "ipython",
    "version": 3
   },
   "file_extension": ".py",
   "mimetype": "text/x-python",
   "name": "python",
   "nbconvert_exporter": "python",
   "pygments_lexer": "ipython3",
   "version": "3.8.8"
  },
  "widgets": {
   "application/vnd.jupyter.widget-state+json": {
    "state": {},
    "version_major": 2,
    "version_minor": 0
   }
  }
 },
 "nbformat": 4,
 "nbformat_minor": 4
}
